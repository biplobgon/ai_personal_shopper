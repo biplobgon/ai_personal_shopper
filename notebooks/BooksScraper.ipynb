{
 "cells": [
  {
   "cell_type": "markdown",
   "id": "16572d90-b7a0-425c-a9eb-fc635a385166",
   "metadata": {},
   "source": [
    "## Project: AI-Powered Personalized Shopping Assistant"
   ]
  },
  {
   "cell_type": "markdown",
   "id": "35217aeb-ef90-4f0c-8e53-51e4267661ad",
   "metadata": {},
   "source": [
    "Overview: An AI agent designed to understand natural language queries and provide personalized product recommendations."
   ]
  },
  {
   "cell_type": "markdown",
   "id": "9e5694db-2e6c-409e-bd2f-5a8d281c2f5d",
   "metadata": {},
   "source": [
    "#### Required Libraries:"
   ]
  },
  {
   "cell_type": "code",
   "execution_count": 2,
   "id": "ad9f08d0-9d04-4dde-9704-3126bb5a74f5",
   "metadata": {},
   "outputs": [],
   "source": [
    "import requests\n",
    "from bs4 import BeautifulSoup\n",
    "import pandas as pd"
   ]
  },
  {
   "cell_type": "markdown",
   "id": "d70afdcf-afc9-4c2a-afe2-d0b2b66f86de",
   "metadata": {},
   "source": [
    "#### Set the Target URL and Request the Page:"
   ]
  },
  {
   "cell_type": "code",
   "execution_count": 1,
   "id": "a74cf63d-1644-4973-b240-244c65a67965",
   "metadata": {},
   "outputs": [
    {
     "ename": "NameError",
     "evalue": "name 'requests' is not defined",
     "output_type": "error",
     "traceback": [
      "\u001b[1;31m---------------------------------------------------------------------------\u001b[0m",
      "\u001b[1;31mNameError\u001b[0m                                 Traceback (most recent call last)",
      "Cell \u001b[1;32mIn[1], line 5\u001b[0m\n\u001b[0;32m      2\u001b[0m url \u001b[38;5;241m=\u001b[39m \u001b[38;5;124m\"\u001b[39m\u001b[38;5;124mhttp://books.toscrape.com/\u001b[39m\u001b[38;5;124m\"\u001b[39m\n\u001b[0;32m      4\u001b[0m \u001b[38;5;66;03m# Send a GET request to the URL\u001b[39;00m\n\u001b[1;32m----> 5\u001b[0m response \u001b[38;5;241m=\u001b[39m \u001b[43mrequests\u001b[49m\u001b[38;5;241m.\u001b[39mget(url)\n\u001b[0;32m      6\u001b[0m \u001b[38;5;28;01mif\u001b[39;00m response\u001b[38;5;241m.\u001b[39mstatus_code \u001b[38;5;241m==\u001b[39m \u001b[38;5;241m200\u001b[39m:\n\u001b[0;32m      7\u001b[0m     \u001b[38;5;28mprint\u001b[39m(\u001b[38;5;124m\"\u001b[39m\u001b[38;5;124mSuccessfully accessed the website!\u001b[39m\u001b[38;5;124m\"\u001b[39m)\n",
      "\u001b[1;31mNameError\u001b[0m: name 'requests' is not defined"
     ]
    }
   ],
   "source": [
    "# Define the target URL for Books to Scrape\n",
    "url = \"http://books.toscrape.com/\"\n",
    "\n",
    "# Send a GET request to the URL\n",
    "response = requests.get(url)\n",
    "if response.status_code == 200:\n",
    "    print(\"Successfully accessed the website!\")\n",
    "else:\n",
    "    print(\"Failed to retrieve the page. Status code:\", response.status_code)"
   ]
  },
  {
   "cell_type": "markdown",
   "id": "8b5d7268-2869-40e0-9a9f-a6aa7e6b999f",
   "metadata": {},
   "source": [
    "#### Parse the HTML Content with BeautifulSoup:"
   ]
  },
  {
   "cell_type": "code",
   "execution_count": 3,
   "id": "147d2050-ab23-4ecb-b519-94242a6b68bd",
   "metadata": {},
   "outputs": [
    {
     "ename": "NameError",
     "evalue": "name 'response' is not defined",
     "output_type": "error",
     "traceback": [
      "\u001b[1;31m---------------------------------------------------------------------------\u001b[0m",
      "\u001b[1;31mNameError\u001b[0m                                 Traceback (most recent call last)",
      "Cell \u001b[1;32mIn[3], line 2\u001b[0m\n\u001b[0;32m      1\u001b[0m \u001b[38;5;66;03m# Parse the HTML content using BeautifulSoup\u001b[39;00m\n\u001b[1;32m----> 2\u001b[0m soup \u001b[38;5;241m=\u001b[39m BeautifulSoup(\u001b[43mresponse\u001b[49m\u001b[38;5;241m.\u001b[39mtext, \u001b[38;5;124m'\u001b[39m\u001b[38;5;124mhtml.parser\u001b[39m\u001b[38;5;124m'\u001b[39m)\n",
      "\u001b[1;31mNameError\u001b[0m: name 'response' is not defined"
     ]
    }
   ],
   "source": [
    "# Parse the HTML content using BeautifulSoup\n",
    "soup = BeautifulSoup(response.text, 'html.parser')"
   ]
  },
  {
   "cell_type": "markdown",
   "id": "83aed877-d4a9-4a1a-9224-44ee2f21f491",
   "metadata": {},
   "source": [
    "#### Locate and Extract Book Data:"
   ]
  },
  {
   "cell_type": "code",
   "execution_count": 4,
   "id": "af121afe-3250-48df-8770-50d317dd9b98",
   "metadata": {},
   "outputs": [
    {
     "ename": "NameError",
     "evalue": "name 'soup' is not defined",
     "output_type": "error",
     "traceback": [
      "\u001b[1;31m---------------------------------------------------------------------------\u001b[0m",
      "\u001b[1;31mNameError\u001b[0m                                 Traceback (most recent call last)",
      "Cell \u001b[1;32mIn[4], line 2\u001b[0m\n\u001b[0;32m      1\u001b[0m \u001b[38;5;66;03m# Find all book items on the page\u001b[39;00m\n\u001b[1;32m----> 2\u001b[0m books \u001b[38;5;241m=\u001b[39m \u001b[43msoup\u001b[49m\u001b[38;5;241m.\u001b[39mfind_all(\u001b[38;5;124m'\u001b[39m\u001b[38;5;124marticle\u001b[39m\u001b[38;5;124m'\u001b[39m, class_\u001b[38;5;241m=\u001b[39m\u001b[38;5;124m'\u001b[39m\u001b[38;5;124mproduct_pod\u001b[39m\u001b[38;5;124m'\u001b[39m)\n\u001b[0;32m      4\u001b[0m \u001b[38;5;66;03m# Initialize a list to hold book data\u001b[39;00m\n\u001b[0;32m      5\u001b[0m book_data \u001b[38;5;241m=\u001b[39m []\n",
      "\u001b[1;31mNameError\u001b[0m: name 'soup' is not defined"
     ]
    }
   ],
   "source": [
    "# Find all book items on the page\n",
    "books = soup.find_all('article', class_='product_pod')\n",
    "\n",
    "# Initialize a list to hold book data\n",
    "book_data = []\n",
    "\n",
    "# Loop over each book and extract details\n",
    "for book in books:\n",
    "    # Title is stored in the 'title' attribute of the <a> tag within <h3>\n",
    "    title = book.find('h3').find('a')['title']\n",
    "    # Price is stored in a <p> tag with the class 'price_color'\n",
    "    price = book.find('p', class_='price_color').text.strip()\n",
    "    # Rating is part of the class list in a <p> tag with class 'star-rating'\n",
    "    # e.g., class=\"star-rating Three\", so we take the second class as the rating\n",
    "    rating = book.find('p', class_='star-rating')['class'][1]\n",
    "    \n",
    "    # Append the data to our list\n",
    "    book_data.append({'title': title, 'price': price, 'rating': rating})"
   ]
  },
  {
   "cell_type": "markdown",
   "id": "e78617a4-7b2d-4eb9-a588-f42a3908256b",
   "metadata": {},
   "source": [
    "#### Convert the Data to a DataFrame and Save as CSV:"
   ]
  },
  {
   "cell_type": "code",
   "execution_count": 5,
   "id": "5b1091ce-8217-4f84-ae77-24f4dde2c6de",
   "metadata": {},
   "outputs": [
    {
     "ename": "NameError",
     "evalue": "name 'book_data' is not defined",
     "output_type": "error",
     "traceback": [
      "\u001b[1;31m---------------------------------------------------------------------------\u001b[0m",
      "\u001b[1;31mNameError\u001b[0m                                 Traceback (most recent call last)",
      "Cell \u001b[1;32mIn[5], line 2\u001b[0m\n\u001b[0;32m      1\u001b[0m \u001b[38;5;66;03m# Convert the list of dictionaries to a pandas DataFrame\u001b[39;00m\n\u001b[1;32m----> 2\u001b[0m df \u001b[38;5;241m=\u001b[39m pd\u001b[38;5;241m.\u001b[39mDataFrame(\u001b[43mbook_data\u001b[49m)\n\u001b[0;32m      4\u001b[0m \u001b[38;5;66;03m# Save the DataFrame to a CSV file inside the 'data' folder (adjust the relative path if needed)\u001b[39;00m\n\u001b[0;32m      5\u001b[0m df\u001b[38;5;241m.\u001b[39mto_csv(\u001b[38;5;124m'\u001b[39m\u001b[38;5;124m../data/books.csv\u001b[39m\u001b[38;5;124m'\u001b[39m, index\u001b[38;5;241m=\u001b[39m\u001b[38;5;28;01mFalse\u001b[39;00m)\n",
      "\u001b[1;31mNameError\u001b[0m: name 'book_data' is not defined"
     ]
    }
   ],
   "source": [
    "# Convert the list of dictionaries to a pandas DataFrame\n",
    "df = pd.DataFrame(book_data)\n",
    "\n",
    "# Save the DataFrame to a CSV file inside the 'data' folder (adjust the relative path if needed)\n",
    "df.to_csv('../data/books.csv', index=False)\n",
    "print(\"Scraping complete. Data saved to ../data/books.csv\")"
   ]
  },
  {
   "cell_type": "code",
   "execution_count": null,
   "id": "ab5acf27-8d41-438a-9c0f-0f78556aab68",
   "metadata": {},
   "outputs": [],
   "source": []
  }
 ],
 "metadata": {
  "kernelspec": {
   "display_name": "Python 3 (ipykernel)",
   "language": "python",
   "name": "python3"
  },
  "language_info": {
   "codemirror_mode": {
    "name": "ipython",
    "version": 3
   },
   "file_extension": ".py",
   "mimetype": "text/x-python",
   "name": "python",
   "nbconvert_exporter": "python",
   "pygments_lexer": "ipython3",
   "version": "3.12.6"
  }
 },
 "nbformat": 4,
 "nbformat_minor": 5
}
